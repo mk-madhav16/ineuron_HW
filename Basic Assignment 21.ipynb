{
 "cells": [
  {
   "cell_type": "code",
   "execution_count": null,
   "id": "47b5b521",
   "metadata": {},
   "outputs": [],
   "source": [
    "#1. Add the current date to the text file today.txt as a string."
   ]
  },
  {
   "cell_type": "code",
   "execution_count": 2,
   "id": "80e8e480",
   "metadata": {},
   "outputs": [],
   "source": [
    "#Ans_1\n",
    "import datetime\n",
    "from datetime import date\n",
    "today = date.today()\n",
    "today_date = today.isoformat()\n",
    "today_date\n",
    "\n",
    "with open('today.txt','w') as file:\n",
    "    file.write(today_date)"
   ]
  },
  {
   "cell_type": "code",
   "execution_count": null,
   "id": "c53b7dc6",
   "metadata": {},
   "outputs": [],
   "source": [
    "#2. Read the text file today.txt into the string today_string."
   ]
  },
  {
   "cell_type": "code",
   "execution_count": 5,
   "id": "00920c87",
   "metadata": {},
   "outputs": [
    {
     "data": {
      "text/plain": [
       "'2022-08-22'"
      ]
     },
     "execution_count": 5,
     "metadata": {},
     "output_type": "execute_result"
    }
   ],
   "source": [
    "#Ans_2\n",
    "with open('today.txt','r') as file:\n",
    "    today_string = file.read()\n",
    "today_string"
   ]
  },
  {
   "cell_type": "code",
   "execution_count": null,
   "id": "a77c5ef4",
   "metadata": {},
   "outputs": [],
   "source": [
    "#3. Parse the date from today_string."
   ]
  },
  {
   "cell_type": "code",
   "execution_count": 6,
   "id": "4ebf599d",
   "metadata": {},
   "outputs": [
    {
     "data": {
      "text/plain": [
       "datetime.datetime(2022, 8, 22, 0, 0)"
      ]
     },
     "execution_count": 6,
     "metadata": {},
     "output_type": "execute_result"
    }
   ],
   "source": [
    "#Ans_3\n",
    "from datetime import *\n",
    "format = '%Y-%m-%d'\n",
    "datetime.strptime(today_string,format)"
   ]
  },
  {
   "cell_type": "code",
   "execution_count": null,
   "id": "176d580a",
   "metadata": {},
   "outputs": [],
   "source": [
    "#4. List the files in your current directory."
   ]
  },
  {
   "cell_type": "code",
   "execution_count": 10,
   "id": "8eed5165",
   "metadata": {},
   "outputs": [
    {
     "data": {
      "text/plain": [
       "['.ipynb_checkpoints',\n",
       " 'Basic Assignment 10.ipynb',\n",
       " 'Basic Assignment 11.ipynb',\n",
       " 'Basic Assignment 12.ipynb',\n",
       " 'Basic Assignment 13.ipynb',\n",
       " 'Basic Assignment 14.ipynb',\n",
       " 'Basic Assignment 15.ipynb',\n",
       " 'Basic Assignment 16.ipynb',\n",
       " 'Basic Assignment 17.ipynb',\n",
       " 'Basic Assignment 18.ipynb',\n",
       " 'Basic Assignment 19.ipynb',\n",
       " 'Basic Assignment 20.ipynb',\n",
       " 'Basic Assignment 21.ipynb',\n",
       " 'Basic Assignment 4.ipynb',\n",
       " 'Basic Assignment 5.ipynb',\n",
       " 'Basic Assignment 6.ipynb',\n",
       " 'Basic Assignment 7.ipynb',\n",
       " 'Basic Assignment 8.ipynb',\n",
       " 'Basic Assignment 9.ipynb',\n",
       " 'books.csv',\n",
       " 'books.db',\n",
       " 'test.txt',\n",
       " 'today.txt']"
      ]
     },
     "execution_count": 10,
     "metadata": {},
     "output_type": "execute_result"
    }
   ],
   "source": [
    "#Ans_4\n",
    "import os\n",
    "os.listdir('.')"
   ]
  },
  {
   "cell_type": "code",
   "execution_count": 12,
   "id": "18ac9655",
   "metadata": {},
   "outputs": [],
   "source": [
    "#6. Use multiprocessing to create three separate processes. Make each one wait a random number of seconds between one and five, print the current time, and then exit."
   ]
  },
  {
   "cell_type": "code",
   "execution_count": 14,
   "id": "4021c074",
   "metadata": {},
   "outputs": [],
   "source": [
    "#Ans_6\n",
    "import multiprocessing\n",
    "\n",
    "def printsec(seconds):\n",
    "    from datetime import datetime\n",
    "    from time import sleep\n",
    "    sleep(seconds)\n",
    "    print('wait', seconds, 'seconds, time is', datetime.utcnow())\n",
    "    \n",
    "if __name__ == '__main__':\n",
    "    import random    \n",
    "    for n in range(3):\n",
    "        seconds = random.random()\n",
    "        proc = multiprocessing.Process(target=printsec, args=(seconds,))\n",
    "        proc.start()"
   ]
  },
  {
   "cell_type": "code",
   "execution_count": null,
   "id": "254859de",
   "metadata": {},
   "outputs": [],
   "source": [
    "#7. Create a date object of your day of birth."
   ]
  },
  {
   "cell_type": "code",
   "execution_count": 17,
   "id": "0510c2e2",
   "metadata": {},
   "outputs": [
    {
     "data": {
      "text/plain": [
       "datetime.date(2000, 12, 16)"
      ]
     },
     "execution_count": 17,
     "metadata": {},
     "output_type": "execute_result"
    }
   ],
   "source": [
    "#Ans_7\n",
    "my_birthday = date(2000,12,16)\n",
    "my_birthday"
   ]
  },
  {
   "cell_type": "code",
   "execution_count": null,
   "id": "fb1bf9a3",
   "metadata": {},
   "outputs": [],
   "source": [
    "#8. What day of the week was your day of birth?"
   ]
  },
  {
   "cell_type": "code",
   "execution_count": 18,
   "id": "0a732407",
   "metadata": {},
   "outputs": [
    {
     "data": {
      "text/plain": [
       "5"
      ]
     },
     "execution_count": 18,
     "metadata": {},
     "output_type": "execute_result"
    }
   ],
   "source": [
    "#Ans_8\n",
    "my_birthday.weekday()"
   ]
  },
  {
   "cell_type": "code",
   "execution_count": null,
   "id": "d6bd5335",
   "metadata": {},
   "outputs": [],
   "source": [
    "#9. When will you be (or when were you) 10,000 days old?"
   ]
  },
  {
   "cell_type": "code",
   "execution_count": 19,
   "id": "0d1b6628",
   "metadata": {},
   "outputs": [
    {
     "data": {
      "text/plain": [
       "datetime.date(2028, 5, 3)"
      ]
     },
     "execution_count": 19,
     "metadata": {},
     "output_type": "execute_result"
    }
   ],
   "source": [
    "#Ans_9\n",
    "from datetime import timedelta\n",
    "day = my_birthday + timedelta(days=10000)\n",
    "day"
   ]
  },
  {
   "cell_type": "code",
   "execution_count": null,
   "id": "69911c92",
   "metadata": {},
   "outputs": [],
   "source": []
  }
 ],
 "metadata": {
  "kernelspec": {
   "display_name": "Python 3",
   "language": "python",
   "name": "python3"
  },
  "language_info": {
   "codemirror_mode": {
    "name": "ipython",
    "version": 3
   },
   "file_extension": ".py",
   "mimetype": "text/x-python",
   "name": "python",
   "nbconvert_exporter": "python",
   "pygments_lexer": "ipython3",
   "version": "3.8.8"
  }
 },
 "nbformat": 4,
 "nbformat_minor": 5
}
