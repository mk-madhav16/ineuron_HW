{
 "cells": [
  {
   "cell_type": "code",
   "execution_count": null,
   "id": "a90c1336",
   "metadata": {},
   "outputs": [],
   "source": [
    "#1. What is the difference between enclosing a list comprehension in square brackets and parentheses?"
   ]
  },
  {
   "cell_type": "code",
   "execution_count": null,
   "id": "aaf7be06",
   "metadata": {},
   "outputs": [],
   "source": [
    "#Ans_1\n",
    "List Comprehension with parentheses creates generators vs List Comprehension with square brackets produces list."
   ]
  },
  {
   "cell_type": "code",
   "execution_count": null,
   "id": "dc3f482a",
   "metadata": {},
   "outputs": [],
   "source": [
    "#2. What is the relationship between generators and iterators?"
   ]
  },
  {
   "cell_type": "code",
   "execution_count": null,
   "id": "6d5aa129",
   "metadata": {},
   "outputs": [],
   "source": [
    "#Ans_2\n",
    "Generator - way of creating iterators in a simple way where it uses the keyword “yield” instead of returning.\n",
    "Iterator - contains a countable number of values and it is used to iterate over iterable objects like list, tuples."
   ]
  },
  {
   "cell_type": "code",
   "execution_count": null,
   "id": "2a91fb76",
   "metadata": {},
   "outputs": [],
   "source": [
    "#3. What are the signs that a function is a generator function?"
   ]
  },
  {
   "cell_type": "code",
   "execution_count": null,
   "id": "d522ecf8",
   "metadata": {},
   "outputs": [],
   "source": [
    "#4. What is the purpose of a yield statement?"
   ]
  },
  {
   "cell_type": "code",
   "execution_count": null,
   "id": "75b12174",
   "metadata": {},
   "outputs": [],
   "source": [
    "#Ans_4\n",
    "A yield statement- works in a way that instead of stopping execution of the function and returning, yield instead provides a value to the code looping over the generator and pauses execution of the generator function."
   ]
  },
  {
   "cell_type": "code",
   "execution_count": null,
   "id": "6210a92a",
   "metadata": {},
   "outputs": [],
   "source": [
    "#5. What is the relationship between map calls and list comprehensions? Make a comparison and contrast between the two."
   ]
  },
  {
   "cell_type": "code",
   "execution_count": null,
   "id": "1f9115b5",
   "metadata": {},
   "outputs": [],
   "source": [
    "Map function: returns a map object(which is an iterator) of the results after applying the given function to each item of a given iterable (list, tuple etc.)\n",
    "    \n",
    "Comparision-\n",
    "\n",
    "• List comprehension are used when a list of results is required, where as map only returns a map object and does not return any list.\n",
    "• List comprehension is faster than map when we need to evaluate expressions that are too long or complicated to express\n",
    "• Map is faster in case of calling an already defined function (as no lambda is required)"
   ]
  },
  {
   "cell_type": "code",
   "execution_count": null,
   "id": "03ed5031",
   "metadata": {},
   "outputs": [],
   "source": []
  }
 ],
 "metadata": {
  "kernelspec": {
   "display_name": "Python 3",
   "language": "python",
   "name": "python3"
  },
  "language_info": {
   "codemirror_mode": {
    "name": "ipython",
    "version": 3
   },
   "file_extension": ".py",
   "mimetype": "text/x-python",
   "name": "python",
   "nbconvert_exporter": "python",
   "pygments_lexer": "ipython3",
   "version": "3.8.8"
  }
 },
 "nbformat": 4,
 "nbformat_minor": 5
}
