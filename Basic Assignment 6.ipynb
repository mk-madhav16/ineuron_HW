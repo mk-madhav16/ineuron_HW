{
 "cells": [
  {
   "cell_type": "code",
   "execution_count": 1,
   "id": "14e9a3a2",
   "metadata": {},
   "outputs": [],
   "source": [
    "#1. What are escape characters, and how do you use them?"
   ]
  },
  {
   "cell_type": "code",
   "execution_count": null,
   "id": "eedaf1c9",
   "metadata": {},
   "outputs": [],
   "source": [
    "#Ans_1\n",
    "Backslash(\\) is known as the escape characters. It is used in certain places like \\n - newline, \\t tab , etc."
   ]
  },
  {
   "cell_type": "code",
   "execution_count": null,
   "id": "20549ec3",
   "metadata": {},
   "outputs": [],
   "source": [
    "#2. What do the escape characters n and t stand for?"
   ]
  },
  {
   "cell_type": "code",
   "execution_count": null,
   "id": "ebc0a61e",
   "metadata": {},
   "outputs": [],
   "source": [
    "#Ans_2\n",
    "\\n - new line \n",
    "\\t - tab"
   ]
  },
  {
   "cell_type": "code",
   "execution_count": null,
   "id": "72aa4fb1",
   "metadata": {},
   "outputs": [],
   "source": [
    "#3. What is the way to include backslash characters in a string?"
   ]
  },
  {
   "cell_type": "code",
   "execution_count": 3,
   "id": "41970afd",
   "metadata": {},
   "outputs": [
    {
     "name": "stdout",
     "output_type": "stream",
     "text": [
      "my name \\ is madhav\n"
     ]
    }
   ],
   "source": [
    "#Ans_3\n",
    "print('my name \\\\ is madhav')"
   ]
  },
  {
   "cell_type": "code",
   "execution_count": null,
   "id": "597cedb2",
   "metadata": {},
   "outputs": [],
   "source": [
    "#4. The string &quot;Howl&#39;s Moving Castle&quot; is a correct value. Why isn&#39;t the single quote character in the\n",
    "word Howl&#39;s not escaped a problem?"
   ]
  },
  {
   "cell_type": "code",
   "execution_count": null,
   "id": "a5957ed8",
   "metadata": {},
   "outputs": [],
   "source": [
    "#Ans_4 \n",
    "It is because we have used double quote at the beggining and at the end of the string"
   ]
  },
  {
   "cell_type": "code",
   "execution_count": null,
   "id": "3a31939b",
   "metadata": {},
   "outputs": [],
   "source": [
    "#5 How do you write a string of newlines if you dont want to use the n character?"
   ]
  },
  {
   "cell_type": "code",
   "execution_count": 4,
   "id": "8416776e",
   "metadata": {},
   "outputs": [
    {
     "name": "stdout",
     "output_type": "stream",
     "text": [
      "my name\n",
      "is madhav\n"
     ]
    }
   ],
   "source": [
    "#Ans_5\n",
    "print(\"my name\" , end = '\\n')\n",
    "print('is madhav')"
   ]
  },
  {
   "cell_type": "code",
   "execution_count": null,
   "id": "8d58b107",
   "metadata": {},
   "outputs": [],
   "source": [
    "#6. What are the values of the given expressions?\n",
    "    'Hello, world!'[1] \n",
    "    'Hello, world!'[0:5] \n",
    "    'Hello, world!'[:5] \n",
    "    'Hello, world!'[3:]"
   ]
  },
  {
   "cell_type": "code",
   "execution_count": 11,
   "id": "001e7d1c",
   "metadata": {},
   "outputs": [
    {
     "name": "stdout",
     "output_type": "stream",
     "text": [
      "e Hello Hello lo, world!\n"
     ]
    }
   ],
   "source": [
    "#Ans_6\n",
    "print('Hello, world!'[1],\n",
    "    'Hello, world!'[0:5] ,\n",
    "    'Hello, world!'[:5] ,\n",
    "    'Hello, world!'[3:]) "
   ]
  },
  {
   "cell_type": "code",
   "execution_count": null,
   "id": "c9840df8",
   "metadata": {},
   "outputs": [],
   "source": [
    "#7 What are the values of the following expressions? 'Hello'.upper() 'Hello'.upper().isupper() 'Hello'.upper().lower()?"
   ]
  },
  {
   "cell_type": "code",
   "execution_count": 12,
   "id": "a9f042fd",
   "metadata": {},
   "outputs": [
    {
     "data": {
      "text/plain": [
       "'HELLO'"
      ]
     },
     "execution_count": 12,
     "metadata": {},
     "output_type": "execute_result"
    }
   ],
   "source": [
    "#Ans_7\n",
    "'Hello'.upper()"
   ]
  },
  {
   "cell_type": "code",
   "execution_count": 13,
   "id": "315f5ab1",
   "metadata": {},
   "outputs": [
    {
     "data": {
      "text/plain": [
       "True"
      ]
     },
     "execution_count": 13,
     "metadata": {},
     "output_type": "execute_result"
    }
   ],
   "source": [
    "'Hello'.upper().isupper()"
   ]
  },
  {
   "cell_type": "code",
   "execution_count": 14,
   "id": "850054fa",
   "metadata": {},
   "outputs": [
    {
     "data": {
      "text/plain": [
       "'hello'"
      ]
     },
     "execution_count": 14,
     "metadata": {},
     "output_type": "execute_result"
    }
   ],
   "source": [
    "'Hello'.upper().lower()"
   ]
  },
  {
   "cell_type": "code",
   "execution_count": null,
   "id": "f4575799",
   "metadata": {},
   "outputs": [],
   "source": [
    "#8 What are the values of the following expressions? 'Remember, remember, the fifth of July.'.split() '-'.join('There can only one.'.split())"
   ]
  },
  {
   "cell_type": "code",
   "execution_count": 16,
   "id": "c6d67268",
   "metadata": {},
   "outputs": [
    {
     "data": {
      "text/plain": [
       "['Remember,', 'remember,', 'the', 'fifth', 'of', 'July.']"
      ]
     },
     "execution_count": 16,
     "metadata": {},
     "output_type": "execute_result"
    }
   ],
   "source": [
    "'Remember, remember, the fifth of July.'.split() "
   ]
  },
  {
   "cell_type": "code",
   "execution_count": 17,
   "id": "61f4e17e",
   "metadata": {},
   "outputs": [
    {
     "data": {
      "text/plain": [
       "'There-can-only-one.'"
      ]
     },
     "execution_count": 17,
     "metadata": {},
     "output_type": "execute_result"
    }
   ],
   "source": [
    " '-'.join('There can only one.'.split())"
   ]
  },
  {
   "cell_type": "code",
   "execution_count": null,
   "id": "5db9425a",
   "metadata": {},
   "outputs": [],
   "source": [
    "#9 What are the methods for right-justifying, left-justifying, and centering a string?"
   ]
  },
  {
   "cell_type": "code",
   "execution_count": 24,
   "id": "6f0bce46",
   "metadata": {},
   "outputs": [
    {
     "data": {
      "text/plain": [
       "'************************Madhav'"
      ]
     },
     "execution_count": 24,
     "metadata": {},
     "output_type": "execute_result"
    }
   ],
   "source": [
    "#Ans_9\n",
    "# right justified\n",
    "a =\"Madhav\"\n",
    "a.rjust(30,'*')"
   ]
  },
  {
   "cell_type": "code",
   "execution_count": 23,
   "id": "8354f74c",
   "metadata": {},
   "outputs": [
    {
     "data": {
      "text/plain": [
       "'Madhav************************'"
      ]
     },
     "execution_count": 23,
     "metadata": {},
     "output_type": "execute_result"
    }
   ],
   "source": [
    "# left justified\n",
    "a =\"Madhav\"\n",
    "a.ljust(30,'*')"
   ]
  },
  {
   "cell_type": "code",
   "execution_count": 22,
   "id": "c5e25b62",
   "metadata": {},
   "outputs": [
    {
     "data": {
      "text/plain": [
       "'************Madhav************'"
      ]
     },
     "execution_count": 22,
     "metadata": {},
     "output_type": "execute_result"
    }
   ],
   "source": [
    "# center justified\n",
    "a =\"Madhav\"\n",
    "a.center(30,'*')"
   ]
  },
  {
   "cell_type": "code",
   "execution_count": null,
   "id": "7e76e944",
   "metadata": {},
   "outputs": [],
   "source": [
    "#10. What is the best way to remove whitespace characters from the start or end?"
   ]
  },
  {
   "cell_type": "code",
   "execution_count": 27,
   "id": "83b07eb1",
   "metadata": {},
   "outputs": [
    {
     "data": {
      "text/plain": [
       "'my name is madhav      '"
      ]
     },
     "execution_count": 27,
     "metadata": {},
     "output_type": "execute_result"
    }
   ],
   "source": [
    "#Ans_10\n",
    "#The best way to remove it is by using strip methord.\n",
    "#Ex-\n",
    "str =\"          my name is madhav      \"\n",
    "str.lstrip()"
   ]
  },
  {
   "cell_type": "code",
   "execution_count": null,
   "id": "8fb5c00d",
   "metadata": {},
   "outputs": [],
   "source": []
  }
 ],
 "metadata": {
  "kernelspec": {
   "display_name": "Python 3",
   "language": "python",
   "name": "python3"
  },
  "language_info": {
   "codemirror_mode": {
    "name": "ipython",
    "version": 3
   },
   "file_extension": ".py",
   "mimetype": "text/x-python",
   "name": "python",
   "nbconvert_exporter": "python",
   "pygments_lexer": "ipython3",
   "version": "3.8.8"
  }
 },
 "nbformat": 4,
 "nbformat_minor": 5
}
