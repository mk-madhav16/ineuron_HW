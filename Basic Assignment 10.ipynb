{
 "cells": [
  {
   "cell_type": "code",
   "execution_count": null,
   "id": "2b5da84d",
   "metadata": {},
   "outputs": [],
   "source": [
    "#1. How do you distinguish between shutil.copy() and shutil.copytree()?"
   ]
  },
  {
   "cell_type": "code",
   "execution_count": null,
   "id": "fde4e91e",
   "metadata": {},
   "outputs": [],
   "source": [
    "#Ans_1\n",
    "shutil.copy()     - can copy one file at a time\n",
    "shutil.copytree() - copies entire folder and file in that folder"
   ]
  },
  {
   "cell_type": "code",
   "execution_count": null,
   "id": "f8bf7809",
   "metadata": {},
   "outputs": [],
   "source": [
    "#2. What function is used to rename files?"
   ]
  },
  {
   "cell_type": "code",
   "execution_count": null,
   "id": "b2f4f452",
   "metadata": {},
   "outputs": [],
   "source": [
    "#Ans_2\n",
    "os.rename('old_file' , 'new_file') - helps in renaming the file"
   ]
  },
  {
   "cell_type": "code",
   "execution_count": null,
   "id": "0b852a7a",
   "metadata": {},
   "outputs": [],
   "source": [
    "#3. What is the difference between the delete functions in the send2trash and shutil modules?"
   ]
  },
  {
   "cell_type": "code",
   "execution_count": null,
   "id": "4c53e8db",
   "metadata": {},
   "outputs": [],
   "source": [
    "#Ans_3\n",
    "send2trash - Dosent delete file permanently, sned file to recycle bin instead\n",
    "shutil modules - delete file permanently"
   ]
  },
  {
   "cell_type": "code",
   "execution_count": null,
   "id": "d639d2ac",
   "metadata": {},
   "outputs": [],
   "source": [
    "#4. ZipFile objects have a close() method just like File objects’ close() method. What ZipFile method is equivalent to File objects’ open() method?"
   ]
  },
  {
   "cell_type": "code",
   "execution_count": null,
   "id": "f6f857c6",
   "metadata": {},
   "outputs": [],
   "source": [
    "#Ans_4\n",
    "ZipFile(file_name, 'r') - open specified zipfile\n",
    "or can use zip.read()"
   ]
  },
  {
   "cell_type": "code",
   "execution_count": null,
   "id": "325c3992",
   "metadata": {},
   "outputs": [],
   "source": [
    "#5. Create a programme that searches a folder tree for files with a certain file extension (such as .pdf or .jpg). Copy these files from whatever location they are in to a new folder."
   ]
  },
  {
   "cell_type": "code",
   "execution_count": 5,
   "id": "edcc70b5",
   "metadata": {},
   "outputs": [],
   "source": [
    "import os, shutil"
   ]
  },
  {
   "cell_type": "code",
   "execution_count": null,
   "id": "a785d863",
   "metadata": {},
   "outputs": [],
   "source": [
    "#Ans_5\n",
    "\n",
    "def selectiveCopy(source, extensions, destination):\n",
    "    folder = os.path.abspath(source)\n",
    "    destination = os.path.abspath(destination)\n",
    "    print('Looking in', source, 'for files with extensions of', ', '.join(extensions))\n",
    "    for foldername, subfolders, filenames in os.walk(source):\n",
    "        for filename in filenames:\n",
    "            name, extension = os.path.splitext(filename)\n",
    "            if extension in extensions:\n",
    "                fileAbsPath = foldername + os.path.sep + filename\n",
    "                print('Coping', fileAbsPath, 'to', destination)\n",
    "                shutil.copy(fileAbsPath, destination)\n",
    "\n",
    "extensions = ['.mp4', '.pdf','.jpg']\n",
    "source = \"C:\\Users\\madha\\OneDrive\\Desktop\\documents\"\n",
    "destination = \"C:\\Users\\madha\\OneDrive\\Desktop\\documents\\aa\"\n",
    "selectiveCopy(source, extensions, destination)"
   ]
  }
 ],
 "metadata": {
  "kernelspec": {
   "display_name": "Python 3",
   "language": "python",
   "name": "python3"
  },
  "language_info": {
   "codemirror_mode": {
    "name": "ipython",
    "version": 3
   },
   "file_extension": ".py",
   "mimetype": "text/x-python",
   "name": "python",
   "nbconvert_exporter": "python",
   "pygments_lexer": "ipython3",
   "version": "3.8.8"
  }
 },
 "nbformat": 4,
 "nbformat_minor": 5
}
