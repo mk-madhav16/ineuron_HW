{
 "cells": [
  {
   "cell_type": "code",
   "execution_count": null,
   "id": "914a59d4",
   "metadata": {},
   "outputs": [],
   "source": [
    "#1. What is the relationship between def statements and lambda expressions ?"
   ]
  },
  {
   "cell_type": "code",
   "execution_count": null,
   "id": "08d36d1b",
   "metadata": {},
   "outputs": [],
   "source": [
    "#Ans_1\n",
    "Lambda Function, also referred to as 'Anonymous function' is same as a regular python function but can be defined without a name.\n",
    "While normal functions are defined using the def keyword, anonymous functions are defined using the lambda keyword. \n",
    "However,they are restricted to single line of expression."
   ]
  },
  {
   "cell_type": "code",
   "execution_count": null,
   "id": "448ee74f",
   "metadata": {},
   "outputs": [],
   "source": [
    "#2. What is the benefit of lambda?"
   ]
  },
  {
   "cell_type": "code",
   "execution_count": null,
   "id": "422c9a2a",
   "metadata": {},
   "outputs": [],
   "source": [
    "#Ans_2\n",
    "Legenth of code get reduced.\n",
    "Get executed faster than normal 'def function'.\n",
    "Make code much more readable by avoiding the logical jumps caused by function calls."
   ]
  },
  {
   "cell_type": "code",
   "execution_count": null,
   "id": "2014f46b",
   "metadata": {},
   "outputs": [],
   "source": [
    "#3. Compare and contrast map, filter, and reduce."
   ]
  },
  {
   "cell_type": "code",
   "execution_count": null,
   "id": "69ef54db",
   "metadata": {},
   "outputs": [],
   "source": [
    "#Ans_3\n",
    "map() -iterates through all items in the given iterable and executes the function we passed as an argument on each of them.\n",
    "filter() - forms a new list that contains only elements that satisfy a certain condition\n",
    "reduce() - works by calling the function we passed for the first two items in the sequence."
   ]
  },
  {
   "cell_type": "code",
   "execution_count": null,
   "id": "eacb1d5a",
   "metadata": {},
   "outputs": [],
   "source": [
    "#4. What are function annotations, and how are they used?"
   ]
  },
  {
   "cell_type": "code",
   "execution_count": null,
   "id": "a9528ed6",
   "metadata": {},
   "outputs": [],
   "source": [
    "#Ans_4\n",
    "• Random and optional Python expressions that get allied to different parts of the function. \n",
    "• Get evaluated only during the compile-time and have no significance during the run-time of the code. \n",
    "• Dont have any significance or meaning associated with them until accessed by some third-party libraries."
   ]
  },
  {
   "cell_type": "code",
   "execution_count": null,
   "id": "cdb52eba",
   "metadata": {},
   "outputs": [],
   "source": [
    "#5. What are recursive functions, and how are they used?"
   ]
  },
  {
   "cell_type": "code",
   "execution_count": null,
   "id": "d539201c",
   "metadata": {},
   "outputs": [],
   "source": [
    "#Ans_5\n",
    "A recursive function is a function that calls itself during its execution. \n",
    "This means that the function will continue to call itself and repeat its behavior until some condition is met to return a result"
   ]
  },
  {
   "cell_type": "code",
   "execution_count": null,
   "id": "9171ca0f",
   "metadata": {},
   "outputs": [],
   "source": [
    "#6. What are some general design guidelines for coding functions?"
   ]
  },
  {
   "cell_type": "code",
   "execution_count": null,
   "id": "e13b31bf",
   "metadata": {},
   "outputs": [],
   "source": [
    "#Ans_6\n",
    "• Wrap linethat they don’t exceed 79 characters\n",
    "• Use of regular and updated comments are valuable to both the coders and users\n",
    "• Use of trailing commas : in case of tuple\n",
    "• Don’t use non-ASCII characters in identifiers"
   ]
  },
  {
   "cell_type": "code",
   "execution_count": null,
   "id": "86b759eb",
   "metadata": {},
   "outputs": [],
   "source": [
    "#7. Name three or more ways that functions can communicate results to a caller."
   ]
  },
  {
   "cell_type": "code",
   "execution_count": null,
   "id": "05ebc3b2",
   "metadata": {},
   "outputs": [],
   "source": [
    "#Ans_7\n",
    "• Can return multiple values, tuple\n",
    "• Can return list,dictionary\n",
    "• Can return function object"
   ]
  },
  {
   "cell_type": "code",
   "execution_count": null,
   "id": "c535c0d4",
   "metadata": {},
   "outputs": [],
   "source": []
  }
 ],
 "metadata": {
  "kernelspec": {
   "display_name": "Python 3",
   "language": "python",
   "name": "python3"
  },
  "language_info": {
   "codemirror_mode": {
    "name": "ipython",
    "version": 3
   },
   "file_extension": ".py",
   "mimetype": "text/x-python",
   "name": "python",
   "nbconvert_exporter": "python",
   "pygments_lexer": "ipython3",
   "version": "3.8.8"
  }
 },
 "nbformat": 4,
 "nbformat_minor": 5
}
