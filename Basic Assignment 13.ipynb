{
 "cells": [
  {
   "cell_type": "code",
   "execution_count": null,
   "id": "cefba039",
   "metadata": {},
   "outputs": [],
   "source": [
    "#1. What advantages do Excel spreadsheets have over CSV spreadsheets?"
   ]
  },
  {
   "cell_type": "code",
   "execution_count": null,
   "id": "988e5200",
   "metadata": {},
   "outputs": [],
   "source": [
    "#Ans_1\n",
    "1. Large files user is much easier in Excel for the end user. \n",
    "2. We can have additional functions like selecting individual cells for import, convert dates and time automatically.\n",
    "3. Data can be stored in charts and graphs\n",
    "4. n Excel not only stores data but can also do operations on the data"
   ]
  },
  {
   "cell_type": "code",
   "execution_count": null,
   "id": "2bbdd6ea",
   "metadata": {},
   "outputs": [],
   "source": [
    "#2.What do you pass to csv.reader() and csv.writer() to create reader and writer objects?"
   ]
  },
  {
   "cell_type": "code",
   "execution_count": null,
   "id": "64017a7f",
   "metadata": {},
   "outputs": [],
   "source": [
    "#Ans_2\n",
    "We usually pass file object, which we get from open('xyz.csv') in csv.reader() and csv.writer() to create reader and writer objects"
   ]
  },
  {
   "cell_type": "code",
   "execution_count": null,
   "id": "2e6c8b4a",
   "metadata": {},
   "outputs": [],
   "source": [
    "#3. What modes do File objects for reader and writer objects need to be opened in?"
   ]
  },
  {
   "cell_type": "code",
   "execution_count": null,
   "id": "6e1a8b8c",
   "metadata": {},
   "outputs": [],
   "source": [
    "#Ans_3\n",
    "For reader - in rb (readers binary)\n",
    "For Writer - in wb (writers binary)"
   ]
  },
  {
   "cell_type": "code",
   "execution_count": null,
   "id": "872196f2",
   "metadata": {},
   "outputs": [],
   "source": [
    "#4. What method takes a list argument and writes it to a CSV file?"
   ]
  },
  {
   "cell_type": "code",
   "execution_count": null,
   "id": "11b38871",
   "metadata": {},
   "outputs": [],
   "source": [
    "#Ans_4\n",
    "The writerow() method takes a list argument and writes it to a CSV file."
   ]
  },
  {
   "cell_type": "code",
   "execution_count": null,
   "id": "762b67c9",
   "metadata": {},
   "outputs": [],
   "source": [
    "#5. What do the keyword arguments delimiter and line terminator do?"
   ]
  },
  {
   "cell_type": "code",
   "execution_count": null,
   "id": "30569a46",
   "metadata": {},
   "outputs": [],
   "source": [
    "#Ans_5\n",
    "The delimiter -  changes the string used to separate cells in a row.\n",
    "The line terminator - changes the string used to separate rows."
   ]
  },
  {
   "cell_type": "code",
   "execution_count": null,
   "id": "c4954e74",
   "metadata": {},
   "outputs": [],
   "source": [
    "#6. What function takes a string of JSON data and returns a Python data structure?"
   ]
  },
  {
   "cell_type": "code",
   "execution_count": null,
   "id": "56fbf730",
   "metadata": {},
   "outputs": [],
   "source": [
    "#Ans_6\n",
    "json.loads() function takes a string of JSON data and returns a Python data structure"
   ]
  },
  {
   "cell_type": "code",
   "execution_count": null,
   "id": "8427d580",
   "metadata": {},
   "outputs": [],
   "source": [
    "#7. What function takes a Python data structure and returns a string of JSON data?"
   ]
  },
  {
   "cell_type": "code",
   "execution_count": null,
   "id": "49fb4b9e",
   "metadata": {},
   "outputs": [],
   "source": [
    "#Ans_7\n",
    "json.dumps() function takes a Python data structure and returns a string of JSON data"
   ]
  },
  {
   "cell_type": "code",
   "execution_count": null,
   "id": "60f16801",
   "metadata": {},
   "outputs": [],
   "source": []
  }
 ],
 "metadata": {
  "kernelspec": {
   "display_name": "Python 3",
   "language": "python",
   "name": "python3"
  },
  "language_info": {
   "codemirror_mode": {
    "name": "ipython",
    "version": 3
   },
   "file_extension": ".py",
   "mimetype": "text/x-python",
   "name": "python",
   "nbconvert_exporter": "python",
   "pygments_lexer": "ipython3",
   "version": "3.8.8"
  }
 },
 "nbformat": 4,
 "nbformat_minor": 5
}
