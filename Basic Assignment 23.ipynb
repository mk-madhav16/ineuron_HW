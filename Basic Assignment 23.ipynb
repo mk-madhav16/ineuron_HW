{
 "cells": [
  {
   "cell_type": "code",
   "execution_count": null,
   "id": "6548c423",
   "metadata": {},
   "outputs": [],
   "source": [
    "#1. What is the result of the code, and why?\n",
    ">>> def func(a, b=6, c=8):\n",
    "print(a, b, c)\n",
    ">>> func(1, 2)"
   ]
  },
  {
   "cell_type": "code",
   "execution_count": 2,
   "id": "a719e9c8",
   "metadata": {},
   "outputs": [
    {
     "name": "stdout",
     "output_type": "stream",
     "text": [
      "1 2 8\n"
     ]
    }
   ],
   "source": [
    "#Ans_1\n",
    "def func(a, b=6, c=8):\n",
    "    print(a, b, c)\n",
    "\n",
    "func(1, 2)\n",
    "\n",
    "#funtion is taking a positional argument and 2 keyward argument. When function call m=is made, parameter passed are a=1,b=2"
   ]
  },
  {
   "cell_type": "code",
   "execution_count": null,
   "id": "ce281618",
   "metadata": {},
   "outputs": [],
   "source": [
    "#2. What is the result of this code, and why?\n",
    ">>> def func(a, b, c=5):\n",
    "print(a, b, c)\n",
    ">>> func(1, c=3, b=2)"
   ]
  },
  {
   "cell_type": "code",
   "execution_count": 5,
   "id": "4b70e3cc",
   "metadata": {},
   "outputs": [
    {
     "name": "stdout",
     "output_type": "stream",
     "text": [
      "1 2 3\n"
     ]
    }
   ],
   "source": [
    "#Ans_2\n",
    "def func(a, b, c=5):\n",
    "    print(a, b, c)\n",
    "func(1, c=3, b=2)\n",
    "#when we make function call, order will be positional argument and then keywords arguments. "
   ]
  },
  {
   "cell_type": "code",
   "execution_count": null,
   "id": "ee1fccb6",
   "metadata": {},
   "outputs": [],
   "source": [
    "#3. How about this code: what is its result, and why?\n",
    ">>> def func(a, *pargs):\n",
    "print(a, pargs)\n",
    ">>> func(1, 2, 3)"
   ]
  },
  {
   "cell_type": "code",
   "execution_count": 6,
   "id": "fb9040e0",
   "metadata": {},
   "outputs": [
    {
     "name": "stdout",
     "output_type": "stream",
     "text": [
      "1 (2, 3)\n"
     ]
    }
   ],
   "source": [
    "#Ans_3\n",
    "def func(a, *pargs):\n",
    "    print(a, pargs)\n",
    "func(1, 2, 3)\n",
    "#return type of *args parameter is tuple"
   ]
  },
  {
   "cell_type": "code",
   "execution_count": null,
   "id": "19917091",
   "metadata": {},
   "outputs": [],
   "source": [
    "#4. What does this code print, and why?\n",
    ">>> def func(a, **kargs):\n",
    "print(a, kargs)\n",
    ">>> func(a=1, c=3, b=2)"
   ]
  },
  {
   "cell_type": "code",
   "execution_count": 8,
   "id": "4f74d26f",
   "metadata": {},
   "outputs": [
    {
     "name": "stdout",
     "output_type": "stream",
     "text": [
      "1 {'c': 3, 'b': 2}\n"
     ]
    }
   ],
   "source": [
    "#Ans_4\n",
    "def func(a, **kargs):\n",
    "    print(a, kargs)\n",
    "func(a=1, c=3, b=2)\n",
    "\n",
    "#return type of  **kargs is  dictionary"
   ]
  },
  {
   "cell_type": "code",
   "execution_count": null,
   "id": "a7db914e",
   "metadata": {},
   "outputs": [],
   "source": [
    "#5. What gets printed by this, and explain?\n",
    ">>> def func(a, b, c=8, d=5): print(a, b, c, d)\n",
    ">>> func(1, *(5, 6))"
   ]
  },
  {
   "cell_type": "code",
   "execution_count": 9,
   "id": "d5746960",
   "metadata": {},
   "outputs": [
    {
     "name": "stdout",
     "output_type": "stream",
     "text": [
      "1 5 6 5\n"
     ]
    }
   ],
   "source": [
    "#Ans_5\n",
    "def func(a, b, c=8, d=5): \n",
    "    print(a, b, c, d)\n",
    "func(1, *(5, 6))\n",
    "\n",
    "# '*' is the unpacking operator and are operators that unpack the values from iterable objects in Python. The single asterisk operator * can be used on any iterable that Python provides, while the double asterisk operator ** can only be used on dictionaries."
   ]
  },
  {
   "cell_type": "code",
   "execution_count": null,
   "id": "4f6502cf",
   "metadata": {},
   "outputs": [],
   "source": [
    "#6. what is the result of this, and explain?\n",
    ">>> def func(a, b, c): a = 2; b[0] = 'x'; c['a'] = 'y'\n",
    ">>> l=1; m=[1]; n={'a':0}\n",
    ">>> func(l, m, n)\n",
    ">>> l, m, n"
   ]
  },
  {
   "cell_type": "code",
   "execution_count": 10,
   "id": "d48bada0",
   "metadata": {},
   "outputs": [
    {
     "data": {
      "text/plain": [
       "(1, ['x'], {'a': 'y'})"
      ]
     },
     "execution_count": 10,
     "metadata": {},
     "output_type": "execute_result"
    }
   ],
   "source": [
    "#Ans_6\n",
    "def func(a, b, c): \n",
    "    a = 2; b[0] = 'x'; c['a'] = 'y'\n",
    "    \n",
    "l=1; m=[1]; n={'a':0}\n",
    "func(l, m, n)\n",
    "\n",
    "l, m, n\n",
    "\n",
    "#the list and dict are passed as argument, Here the list l and parameter b point to the same list in the memory location where as dict n and c point to the same memory location. "
   ]
  },
  {
   "cell_type": "code",
   "execution_count": null,
   "id": "66458472",
   "metadata": {},
   "outputs": [],
   "source": []
  }
 ],
 "metadata": {
  "kernelspec": {
   "display_name": "Python 3",
   "language": "python",
   "name": "python3"
  },
  "language_info": {
   "codemirror_mode": {
    "name": "ipython",
    "version": 3
   },
   "file_extension": ".py",
   "mimetype": "text/x-python",
   "name": "python",
   "nbconvert_exporter": "python",
   "pygments_lexer": "ipython3",
   "version": "3.8.8"
  }
 },
 "nbformat": 4,
 "nbformat_minor": 5
}
