{
 "cells": [
  {
   "cell_type": "code",
   "execution_count": null,
   "id": "8d4f06a4",
   "metadata": {},
   "outputs": [],
   "source": [
    "#1. To what does a relative path refer?"
   ]
  },
  {
   "cell_type": "code",
   "execution_count": null,
   "id": "5cf5ec27",
   "metadata": {},
   "outputs": [],
   "source": [
    "#Ans_1\n",
    "Relative path is relative to crrent or parent directory"
   ]
  },
  {
   "cell_type": "code",
   "execution_count": null,
   "id": "8098d878",
   "metadata": {},
   "outputs": [],
   "source": [
    "#2. What does an absolute path start with your operating system?"
   ]
  },
  {
   "cell_type": "code",
   "execution_count": null,
   "id": "7439721d",
   "metadata": {},
   "outputs": [],
   "source": [
    "#Ans_2\n",
    "It is the complete location of the directory, starting from root element and ending with other subdirectories."
   ]
  },
  {
   "cell_type": "code",
   "execution_count": null,
   "id": "f21ddf55",
   "metadata": {},
   "outputs": [],
   "source": [
    "#3. What do the functions os.getcwd() and os.chdir() do?"
   ]
  },
  {
   "cell_type": "code",
   "execution_count": null,
   "id": "fc933205",
   "metadata": {},
   "outputs": [],
   "source": [
    "#Ans_3\n",
    "os.getcwd() - gives the full path of current working directory\n",
    "os.chdir - change the current working directory to the given new path"
   ]
  },
  {
   "cell_type": "code",
   "execution_count": null,
   "id": "4df31875",
   "metadata": {},
   "outputs": [],
   "source": [
    "#4. What are the . and .. folders?"
   ]
  },
  {
   "cell_type": "code",
   "execution_count": null,
   "id": "13116600",
   "metadata": {},
   "outputs": [],
   "source": [
    "#Ans_4\n",
    "a dot (.) and a double-dot (..)\n",
    "- Which translate into the current directory and the parent directory. \n",
    "- Double dots are used for moving up in the hierarchy."
   ]
  },
  {
   "cell_type": "code",
   "execution_count": null,
   "id": "a03d492c",
   "metadata": {},
   "outputs": [],
   "source": [
    "#5. In C:\\bacon\\eggs\\spam.txt, which part is the dir name, and which part is the base name?"
   ]
  },
  {
   "cell_type": "code",
   "execution_count": null,
   "id": "1867cdbf",
   "metadata": {},
   "outputs": [],
   "source": [
    "#Ans_5\n",
    "dir name - C:\\bacon\\eggs\n",
    "base name - spam.txt"
   ]
  },
  {
   "cell_type": "code",
   "execution_count": null,
   "id": "5817931c",
   "metadata": {},
   "outputs": [],
   "source": [
    "#6. What are the three “mode” arguments that can be passed to the open() function?"
   ]
  },
  {
   "cell_type": "code",
   "execution_count": null,
   "id": "45b97dc0",
   "metadata": {},
   "outputs": [],
   "source": [
    "#Ans_6\n",
    "r  : Opens the file in read only mode\n",
    "rb : Opens the file as read-only in binary format\n",
    "w  : Opens in write-only mode"
   ]
  },
  {
   "cell_type": "code",
   "execution_count": null,
   "id": "c9b53760",
   "metadata": {},
   "outputs": [],
   "source": [
    "#7. What happens if an existing file is opened in write mode?"
   ]
  },
  {
   "cell_type": "code",
   "execution_count": null,
   "id": "5b84818e",
   "metadata": {},
   "outputs": [],
   "source": [
    "#Ans_7\n",
    "If a file is open in \"w\" mode thean it creates an empty file for output operations"
   ]
  },
  {
   "cell_type": "code",
   "execution_count": null,
   "id": "215f8d81",
   "metadata": {},
   "outputs": [],
   "source": [
    "#8. How do you tell the difference between read() and readlines()?"
   ]
  },
  {
   "cell_type": "code",
   "execution_count": null,
   "id": "0ff01944",
   "metadata": {},
   "outputs": [],
   "source": [
    "#Ans_8\n",
    "read() - read() will read the whole file at once and then print out the first characters that take up as many bytes as you specify in the parenthesis\n",
    "readline()- that will read and print out only the first characters that take up as many bytes as you specify in the parenthesis."
   ]
  },
  {
   "cell_type": "code",
   "execution_count": null,
   "id": "c9fcc28b",
   "metadata": {},
   "outputs": [],
   "source": [
    "#9. What data structure does a shelf value resemble?"
   ]
  },
  {
   "cell_type": "code",
   "execution_count": null,
   "id": "10fe8ba1",
   "metadata": {},
   "outputs": [],
   "source": [
    "#Ans_9\n",
    "Data structure that resemble shelf value is Dictionary "
   ]
  },
  {
   "cell_type": "code",
   "execution_count": null,
   "id": "1a550423",
   "metadata": {},
   "outputs": [],
   "source": []
  }
 ],
 "metadata": {
  "kernelspec": {
   "display_name": "Python 3",
   "language": "python",
   "name": "python3"
  },
  "language_info": {
   "codemirror_mode": {
    "name": "ipython",
    "version": 3
   },
   "file_extension": ".py",
   "mimetype": "text/x-python",
   "name": "python",
   "nbconvert_exporter": "python",
   "pygments_lexer": "ipython3",
   "version": "3.8.8"
  }
 },
 "nbformat": 4,
 "nbformat_minor": 5
}
