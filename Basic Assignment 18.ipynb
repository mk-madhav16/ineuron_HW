{
 "cells": [
  {
   "cell_type": "code",
   "execution_count": null,
   "id": "85be6ec7",
   "metadata": {},
   "outputs": [],
   "source": [
    "#5. Create a plain dictionary with the key-value pairs 'a': 1, 'b': 2, 'c': 3, and print it out."
   ]
  },
  {
   "cell_type": "code",
   "execution_count": 4,
   "id": "0d729720",
   "metadata": {},
   "outputs": [
    {
     "data": {
      "text/plain": [
       "{'a': 1, 'b': 2, 'c': 3}"
      ]
     },
     "execution_count": 4,
     "metadata": {},
     "output_type": "execute_result"
    }
   ],
   "source": [
    "#Ans_5\n",
    "plain = {'a': 1, 'b': 2, 'c': 3}\n",
    "plain"
   ]
  },
  {
   "cell_type": "code",
   "execution_count": null,
   "id": "c04c23d0",
   "metadata": {},
   "outputs": [],
   "source": [
    "#6.Make an OrderedDict called fancy from the same pairs listed in 5 and print it. Did it print in the same order as plain?"
   ]
  },
  {
   "cell_type": "code",
   "execution_count": 7,
   "id": "82cd5d25",
   "metadata": {},
   "outputs": [
    {
     "name": "stdout",
     "output_type": "stream",
     "text": [
      "OrderedDict([('a', 1), ('b', 2), ('c', 3)])\n",
      "yes it print the same order\n"
     ]
    }
   ],
   "source": [
    "#Ans_6\n",
    "\n",
    "from collections import OrderedDict\n",
    "fancy = OrderedDict([('a', 1), ('b', 2), ('c', 3)])\n",
    "print(fancy)\n",
    "\n",
    "print(\"yes it print the same order\")"
   ]
  },
  {
   "cell_type": "code",
   "execution_count": null,
   "id": "14b500ce",
   "metadata": {},
   "outputs": [],
   "source": [
    "#7. Make a defaultdict called dict_of_lists and pass it the argument list. Make the list dict_of_lists['a'] and append the value 'something for a' to it in one assignment. Print dict_of_lists['a']"
   ]
  },
  {
   "cell_type": "code",
   "execution_count": 8,
   "id": "d5aa799f",
   "metadata": {},
   "outputs": [
    {
     "data": {
      "text/plain": [
       "['something for a']"
      ]
     },
     "execution_count": 8,
     "metadata": {},
     "output_type": "execute_result"
    }
   ],
   "source": [
    "#Ans_7\n",
    "from collections import defaultdict\n",
    "dict_of_lists = defaultdict(list)\n",
    "dict_of_lists['a'].append('something for a')\n",
    "dict_of_lists['a']"
   ]
  },
  {
   "cell_type": "code",
   "execution_count": null,
   "id": "af163c4b",
   "metadata": {},
   "outputs": [],
   "source": []
  }
 ],
 "metadata": {
  "kernelspec": {
   "display_name": "Python 3",
   "language": "python",
   "name": "python3"
  },
  "language_info": {
   "codemirror_mode": {
    "name": "ipython",
    "version": 3
   },
   "file_extension": ".py",
   "mimetype": "text/x-python",
   "name": "python",
   "nbconvert_exporter": "python",
   "pygments_lexer": "ipython3",
   "version": "3.8.8"
  }
 },
 "nbformat": 4,
 "nbformat_minor": 5
}
