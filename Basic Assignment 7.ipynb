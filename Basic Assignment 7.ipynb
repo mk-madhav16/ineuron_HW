{
 "cells": [
  {
   "cell_type": "code",
   "execution_count": 1,
   "id": "cc8c5bb0",
   "metadata": {},
   "outputs": [],
   "source": [
    "#1. What is the name of the feature responsible for generating Regex objects?"
   ]
  },
  {
   "cell_type": "code",
   "execution_count": null,
   "id": "2177be93",
   "metadata": {},
   "outputs": [],
   "source": [
    "#Ans_1\n",
    "Feature that is respeonsible for Regex is re.compile(), but fot it we have to import re first.\n",
    "import re\n",
    "re.compile(\"xyz\")"
   ]
  },
  {
   "cell_type": "code",
   "execution_count": 2,
   "id": "e36a87a4",
   "metadata": {},
   "outputs": [],
   "source": [
    "#2. Why do raw strings often appear in Regex objects?"
   ]
  },
  {
   "cell_type": "code",
   "execution_count": null,
   "id": "2d9021f5",
   "metadata": {},
   "outputs": [],
   "source": [
    "#Ans_2\n",
    "This happens to be in significance so that backlashes do not have to be escaped."
   ]
  },
  {
   "cell_type": "code",
   "execution_count": 4,
   "id": "085d76fe",
   "metadata": {},
   "outputs": [],
   "source": [
    "#3. What is the return value of the search() method?"
   ]
  },
  {
   "cell_type": "code",
   "execution_count": null,
   "id": "374e847e",
   "metadata": {},
   "outputs": [],
   "source": [
    "#Ans_3\n",
    "It helps finding a string value or an expression and tells us by locating the position of the finding."
   ]
  },
  {
   "cell_type": "code",
   "execution_count": 5,
   "id": "ec7b9248",
   "metadata": {},
   "outputs": [],
   "source": [
    "#4. From a Match item, how do you get the actual strings that match the pattern?"
   ]
  },
  {
   "cell_type": "code",
   "execution_count": null,
   "id": "92059d86",
   "metadata": {},
   "outputs": [],
   "source": [
    "#Ans_4\n",
    "From match item we can find by using simple methord - xyz = re.compile(r'\\d\\d\\d-\\d\\d\\d-\\d\\d\\d\\d') \n",
    "                                                          xyz.search('ggg-5555-edrg')"
   ]
  },
  {
   "cell_type": "code",
   "execution_count": 6,
   "id": "c30e1d06",
   "metadata": {},
   "outputs": [],
   "source": [
    "#5. In the regex which created from the r'(\\d\\d\\d)-(\\d\\d\\d-\\d\\d\\d\\d)', what does group zero cover? Group 2? Group 1?"
   ]
  },
  {
   "cell_type": "code",
   "execution_count": null,
   "id": "7c440ccf",
   "metadata": {},
   "outputs": [],
   "source": [
    "#Ans_5\n",
    "Group 1- have to first three digit value\n",
    "Group 2- have rest whole value\n",
    "Group 0- have the whole number/value"
   ]
  },
  {
   "cell_type": "code",
   "execution_count": 7,
   "id": "b73f9301",
   "metadata": {},
   "outputs": [],
   "source": [
    "#6. In standard expression syntax, parentheses and intervals have distinct meanings. How can you tell a regex that you want it to fit real parentheses and periods?"
   ]
  },
  {
   "cell_type": "code",
   "execution_count": null,
   "id": "7e274f67",
   "metadata": {},
   "outputs": [],
   "source": [
    "#Ans_6\n",
    "Periods and parentheses can be escaped with a backslash: \\., \\(, and \\)."
   ]
  },
  {
   "cell_type": "code",
   "execution_count": 8,
   "id": "0cc21080",
   "metadata": {},
   "outputs": [],
   "source": [
    "#7. The findall() method returns a string list or a list of string tuples. What causes it to return one of the two options?"
   ]
  },
  {
   "cell_type": "code",
   "execution_count": null,
   "id": "851df354",
   "metadata": {},
   "outputs": [],
   "source": [
    "#Ans_7\n",
    "If no groups - list \n",
    "If groups - tuples"
   ]
  },
  {
   "cell_type": "code",
   "execution_count": 9,
   "id": "4babdbed",
   "metadata": {},
   "outputs": [],
   "source": [
    "#8. In standard expressions, what does the | character mean?"
   ]
  },
  {
   "cell_type": "code",
   "execution_count": null,
   "id": "2cf149f1",
   "metadata": {},
   "outputs": [],
   "source": [
    "#Ans_8\n",
    "| - is known as pipe , signifies (either , or)\n",
    "Helps to match two item.\n",
    "For ex- 'ineuron|data_science' "
   ]
  },
  {
   "cell_type": "code",
   "execution_count": null,
   "id": "dcdabffc",
   "metadata": {},
   "outputs": [],
   "source": [
    "#9. In regular expressions, what does the ? character stand for?"
   ]
  },
  {
   "cell_type": "code",
   "execution_count": null,
   "id": "dee97bab",
   "metadata": {},
   "outputs": [],
   "source": [
    "#Ans_9\n",
    "It means that either match zero or value of the preceding group."
   ]
  },
  {
   "cell_type": "code",
   "execution_count": null,
   "id": "0c1ee9d7",
   "metadata": {},
   "outputs": [],
   "source": [
    "#10.In regular expressions, what is the difference between the + and * characters?"
   ]
  },
  {
   "cell_type": "code",
   "execution_count": null,
   "id": "e1c96e1e",
   "metadata": {},
   "outputs": [],
   "source": [
    "#Ans_10\n",
    "+ try to match one or more\n",
    "\n",
    "* try to match zero or more"
   ]
  },
  {
   "cell_type": "code",
   "execution_count": null,
   "id": "bbc21a73",
   "metadata": {},
   "outputs": [],
   "source": [
    "#11. What is the difference between {4} and {4,5} in regular expression?"
   ]
  },
  {
   "cell_type": "code",
   "execution_count": null,
   "id": "28fa2b04",
   "metadata": {},
   "outputs": [],
   "source": [
    "#Ans_11\n",
    "{4} - matches 4 items of former group\n",
    "{4,5} - matches item between 4 and 5 "
   ]
  },
  {
   "cell_type": "code",
   "execution_count": null,
   "id": "ba354cf3",
   "metadata": {},
   "outputs": [],
   "source": [
    "#12. What do you mean by the \\d, \\w, and \\s shorthand character classes signify in regular expressions?"
   ]
  },
  {
   "cell_type": "code",
   "execution_count": null,
   "id": "a0d1ee68",
   "metadata": {},
   "outputs": [],
   "source": [
    "#Ans_12\n",
    "\\d - signify numeric digit\n",
    "\\w - signify letter, word, underscore character\n",
    "\\s - signify space character"
   ]
  },
  {
   "cell_type": "code",
   "execution_count": null,
   "id": "957c65de",
   "metadata": {},
   "outputs": [],
   "source": [
    "#13. What do means by \\D, \\W, and \\S shorthand character classes signify in regular expressions?"
   ]
  },
  {
   "cell_type": "code",
   "execution_count": null,
   "id": "09b53a5c",
   "metadata": {},
   "outputs": [],
   "source": [
    "#Ans_13\n",
    "\\D - signify non numeric digit\n",
    "\\W - signify non letter, word, underscore character\n",
    "\\S - signify non space character"
   ]
  },
  {
   "cell_type": "code",
   "execution_count": null,
   "id": "5d12eb0b",
   "metadata": {},
   "outputs": [],
   "source": [
    "#14. What is the difference between .? and .*?"
   ]
  },
  {
   "cell_type": "code",
   "execution_count": null,
   "id": "b4c68397",
   "metadata": {},
   "outputs": [],
   "source": [
    "#Ans_14\n",
    ".*? - helps match all text in non greedy fashion\n",
    ".? - helps match using greedy fashion"
   ]
  },
  {
   "cell_type": "code",
   "execution_count": null,
   "id": "cb0009ff",
   "metadata": {},
   "outputs": [],
   "source": [
    "#15. What is the syntax for matching both numbers and lowercase letters with a character class?"
   ]
  },
  {
   "cell_type": "code",
   "execution_count": null,
   "id": "aaf4fa07",
   "metadata": {},
   "outputs": [],
   "source": [
    "#Ans_15\n",
    "Best way is by either [0-9a-z] or [a-z0-9]"
   ]
  },
  {
   "cell_type": "code",
   "execution_count": null,
   "id": "59d693dc",
   "metadata": {},
   "outputs": [],
   "source": [
    "#16. What is the procedure for making a normal expression in regax case insensitive?"
   ]
  },
  {
   "cell_type": "code",
   "execution_count": null,
   "id": "ea7da8a4",
   "metadata": {},
   "outputs": [],
   "source": [
    "#Ans_16\n",
    "By passing re.l or re.IGNORECASE"
   ]
  },
  {
   "cell_type": "code",
   "execution_count": null,
   "id": "32cdf1bf",
   "metadata": {},
   "outputs": [],
   "source": [
    "#17. What does the . character normally match? What does it match if re.DOTALL is passed as 2nd argument in re.compile()?"
   ]
  },
  {
   "cell_type": "code",
   "execution_count": null,
   "id": "0a7b0159",
   "metadata": {},
   "outputs": [],
   "source": [
    "#Ans_17\n",
    ". character try to match all character except newline character\n",
    "\n",
    "re.DOTALL if passed in second argument in re.compile(), then will also try to match newline characters."
   ]
  },
  {
   "cell_type": "code",
   "execution_count": null,
   "id": "32eb1af1",
   "metadata": {},
   "outputs": [],
   "source": [
    "#18. If numReg = re.compile(r'\\d+'), what will numRegex.sub('X', '11 drummers, 10 pipers, five rings, 4 hen') return?"
   ]
  },
  {
   "cell_type": "code",
   "execution_count": 3,
   "id": "e4745ce8",
   "metadata": {},
   "outputs": [
    {
     "data": {
      "text/plain": [
       "'X drummers, X pipers, five rings, X hen'"
      ]
     },
     "execution_count": 3,
     "metadata": {},
     "output_type": "execute_result"
    }
   ],
   "source": [
    "import re\n",
    "numReg = re.compile(r'\\d+')\n",
    "x = numReg.sub('X', '11 drummers, 10 pipers, five rings, 4 hen')\n",
    "x"
   ]
  },
  {
   "cell_type": "code",
   "execution_count": null,
   "id": "b38eea51",
   "metadata": {},
   "outputs": [],
   "source": [
    "#19. What does passing re.VERBOSE as the 2nd argument to re.compile() allow to do?"
   ]
  },
  {
   "cell_type": "code",
   "execution_count": null,
   "id": "d5edef28",
   "metadata": {},
   "outputs": [],
   "source": [
    "#Ans_19\n",
    "This function allows us to add comment to a string passes to re.compile as well as allows us to add whiteshapes."
   ]
  },
  {
   "cell_type": "code",
   "execution_count": null,
   "id": "4b173e95",
   "metadata": {},
   "outputs": [],
   "source": [
    "#20. How would you write a regex that match a number with comma for every three digits? It must match the given following:\n",
    "'42'\n",
    "'1,234'\n",
    "'6,368,745'\n",
    "but not the following:\n",
    "'12,34,567' (which has only two digits between the commas)\n",
    "'1234' (which lacks commas)"
   ]
  },
  {
   "cell_type": "code",
   "execution_count": 7,
   "id": "73390652",
   "metadata": {},
   "outputs": [
    {
     "data": {
      "text/plain": [
       "'42'"
      ]
     },
     "execution_count": 7,
     "metadata": {},
     "output_type": "execute_result"
    }
   ],
   "source": [
    "#Ans_20\n",
    "reg_1 = re.compile(r'^\\d{1,3}(,\\d{3})*$')\n",
    "x_1 = reg_1.search('42')\n",
    "x_1.group()"
   ]
  },
  {
   "cell_type": "code",
   "execution_count": 8,
   "id": "b953f255",
   "metadata": {},
   "outputs": [
    {
     "data": {
      "text/plain": [
       "'1,234'"
      ]
     },
     "execution_count": 8,
     "metadata": {},
     "output_type": "execute_result"
    }
   ],
   "source": [
    "reg_1 = re.compile(r'^\\d{1,3}(,\\d{3})*$')\n",
    "y_1 = reg_1.search('1,234')\n",
    "y_1.group()"
   ]
  },
  {
   "cell_type": "code",
   "execution_count": 9,
   "id": "10d7dc3a",
   "metadata": {},
   "outputs": [
    {
     "data": {
      "text/plain": [
       "'6,368,745'"
      ]
     },
     "execution_count": 9,
     "metadata": {},
     "output_type": "execute_result"
    }
   ],
   "source": [
    "reg_1 = re.compile(r'^\\d{1,3}(,\\d{3})*$')\n",
    "z_1 = reg_1.search('6,368,745')\n",
    "z_1.group()"
   ]
  },
  {
   "cell_type": "code",
   "execution_count": null,
   "id": "8b897acc",
   "metadata": {},
   "outputs": [],
   "source": [
    "#21. How would you write a regex that matches the full name of someone whose last name is Watanabe? You can assume that the first name that comes before it will always be one word that begins with a capital letter. The regex must match the following:\n",
    "'Haruto Watanabe'\n",
    "'Alice Watanabe'\n",
    "'RoboCop Watanabe'\n",
    "but not the following:\n",
    "'haruto Watanabe' (where the first name is not capitalized)\n",
    "'Mr. Watanabe' (where the preceding word has a nonletter character)\n",
    "'Watanabe' (which has no first name)\n",
    "'Haruto watanabe' (where Watanabe is not capitalized)\n"
   ]
  },
  {
   "cell_type": "code",
   "execution_count": 10,
   "id": "ef40edd2",
   "metadata": {},
   "outputs": [
    {
     "data": {
      "text/plain": [
       "'Haruto Watanabe'"
      ]
     },
     "execution_count": 10,
     "metadata": {},
     "output_type": "execute_result"
    }
   ],
   "source": [
    "#Ans_21\n",
    "name_1 = re.compile(r'[A-Z][a-z]*\\sWatanabe')\n",
    "reg_1 = re.compile(r'^\\d{1,3}(,\\d{haruto Watanabe3})*$')\n",
    "x = name_1.search('Haruto Watanabe')\n",
    "x.group()"
   ]
  },
  {
   "cell_type": "code",
   "execution_count": 11,
   "id": "02f0cede",
   "metadata": {},
   "outputs": [
    {
     "data": {
      "text/plain": [
       "'Alice Watanabe'"
      ]
     },
     "execution_count": 11,
     "metadata": {},
     "output_type": "execute_result"
    }
   ],
   "source": [
    "name_2 = re.compile(r'[A-Z][a-z]*\\sWatanabe')\n",
    "reg_2 = re.compile(r'^\\d{1,3}(,\\d{3})*$')\n",
    "y = name_2.search('Alice Watanabe')\n",
    "y.group()"
   ]
  },
  {
   "cell_type": "code",
   "execution_count": 12,
   "id": "7d0a5727",
   "metadata": {},
   "outputs": [
    {
     "data": {
      "text/plain": [
       "'Robocop Watanabe'"
      ]
     },
     "execution_count": 12,
     "metadata": {},
     "output_type": "execute_result"
    }
   ],
   "source": [
    "name_3 = re.compile(r'[A-Z][a-z]*\\sWatanabe')\n",
    "reg_3 = re.compile(r'^\\d{1,3}(,\\d{3})*$')\n",
    "z = name_3.search('Robocop Watanabe')\n",
    "z.group()"
   ]
  },
  {
   "cell_type": "code",
   "execution_count": null,
   "id": "22850b8a",
   "metadata": {},
   "outputs": [],
   "source": [
    "#22. How would you write a regex that matches a sentence where the first word is either Alice, Bob, or Carol; the second word is either eats, pets, or throws; the third word is apples, cats, or baseballs; and the sentence ends with a period? This regex should be case-insensitive. It must match the following:\n",
    "'Alice eats apples.'\n",
    "'Bob pets cats.'\n",
    "'Carol throws baseballs.'\n",
    "'Alice throws Apples.'\n",
    "'BOB EATS CATS.'\n",
    "but not the following:\n",
    "'RoboCop eats apples.'\n",
    "'ALICE THROWS FOOTBALLS.'\n"
   ]
  },
  {
   "cell_type": "code",
   "execution_count": 17,
   "id": "a2dba5b0",
   "metadata": {},
   "outputs": [
    {
     "data": {
      "text/plain": [
       "'Alice eats apples.'"
      ]
     },
     "execution_count": 17,
     "metadata": {},
     "output_type": "execute_result"
    }
   ],
   "source": [
    "name = re.compile(r'(Alice|Bob|Carol)\\s(eats|pets|throws)\\s(apples|cats|baseballs)\\.', re.IGNORECASE)\n",
    "\n",
    "x = name.search('Alice eats apples.')\n",
    "x.group()"
   ]
  },
  {
   "cell_type": "code",
   "execution_count": 16,
   "id": "97041680",
   "metadata": {},
   "outputs": [
    {
     "data": {
      "text/plain": [
       "'Carol throws baseballs.'"
      ]
     },
     "execution_count": 16,
     "metadata": {},
     "output_type": "execute_result"
    }
   ],
   "source": [
    "y = name.search('Carol throws baseballs.')\n",
    "y.group()"
   ]
  },
  {
   "cell_type": "code",
   "execution_count": 19,
   "id": "27801c52",
   "metadata": {},
   "outputs": [
    {
     "ename": "AttributeError",
     "evalue": "'NoneType' object has no attribute 'group'",
     "output_type": "error",
     "traceback": [
      "\u001b[1;31m---------------------------------------------------------------------------\u001b[0m",
      "\u001b[1;31mAttributeError\u001b[0m                            Traceback (most recent call last)",
      "\u001b[1;32m<ipython-input-19-c4d605ab47a9>\u001b[0m in \u001b[0;36m<module>\u001b[1;34m\u001b[0m\n\u001b[0;32m      1\u001b[0m \u001b[1;31m#wrong statement\u001b[0m\u001b[1;33m\u001b[0m\u001b[1;33m\u001b[0m\u001b[1;33m\u001b[0m\u001b[0m\n\u001b[0;32m      2\u001b[0m \u001b[0mz\u001b[0m \u001b[1;33m=\u001b[0m \u001b[0mname\u001b[0m\u001b[1;33m.\u001b[0m\u001b[0msearch\u001b[0m\u001b[1;33m(\u001b[0m\u001b[1;34m'ALICE THROWS FOOTBALLS.'\u001b[0m\u001b[1;33m)\u001b[0m\u001b[1;33m\u001b[0m\u001b[1;33m\u001b[0m\u001b[0m\n\u001b[1;32m----> 3\u001b[1;33m \u001b[0mz\u001b[0m\u001b[1;33m.\u001b[0m\u001b[0mgroup\u001b[0m\u001b[1;33m(\u001b[0m\u001b[1;33m)\u001b[0m\u001b[1;33m\u001b[0m\u001b[1;33m\u001b[0m\u001b[0m\n\u001b[0m",
      "\u001b[1;31mAttributeError\u001b[0m: 'NoneType' object has no attribute 'group'"
     ]
    }
   ],
   "source": [
    "#wrong statement\n",
    "z = name.search('ALICE THROWS FOOTBALLS.')\n",
    "z.group()"
   ]
  },
  {
   "cell_type": "code",
   "execution_count": null,
   "id": "2dd911d1",
   "metadata": {},
   "outputs": [],
   "source": []
  }
 ],
 "metadata": {
  "kernelspec": {
   "display_name": "Python 3",
   "language": "python",
   "name": "python3"
  },
  "language_info": {
   "codemirror_mode": {
    "name": "ipython",
    "version": 3
   },
   "file_extension": ".py",
   "mimetype": "text/x-python",
   "name": "python",
   "nbconvert_exporter": "python",
   "pygments_lexer": "ipython3",
   "version": "3.8.8"
  }
 },
 "nbformat": 4,
 "nbformat_minor": 5
}
