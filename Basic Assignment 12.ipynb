{
 "cells": [
  {
   "cell_type": "code",
   "execution_count": null,
   "id": "a0c6699b",
   "metadata": {},
   "outputs": [],
   "source": [
    "#1. In what modes should the PdfFileReader() and PdfFileWriter() File objects will be opened?"
   ]
  },
  {
   "cell_type": "code",
   "execution_count": null,
   "id": "c14830f2",
   "metadata": {},
   "outputs": [],
   "source": [
    "#Ans_1\n",
    "These files will be opened in binary mode. \n",
    "read binary (rb)  - PdfFileREader() \n",
    "write binary (wb) - PdfFileWriter()"
   ]
  },
  {
   "cell_type": "code",
   "execution_count": null,
   "id": "90af7e6a",
   "metadata": {},
   "outputs": [],
   "source": [
    "#2. From a PdfFileReader object, how do you get a Page object for page 5?"
   ]
  },
  {
   "cell_type": "code",
   "execution_count": null,
   "id": "ed13993d",
   "metadata": {},
   "outputs": [],
   "source": [
    "#Ans_2\n",
    "By calling 'getPage(4)' will return a Page object for page 5."
   ]
  },
  {
   "cell_type": "code",
   "execution_count": null,
   "id": "5e9d2100",
   "metadata": {},
   "outputs": [],
   "source": [
    "#3. What PdfFileReader variable stores the number of pages in the PDF document?"
   ]
  },
  {
   "cell_type": "code",
   "execution_count": null,
   "id": "c0920d91",
   "metadata": {},
   "outputs": [],
   "source": [
    "#Ans_3\n",
    "pdfReader.numPages - stores the number of pages in the PDF document"
   ]
  },
  {
   "cell_type": "code",
   "execution_count": null,
   "id": "701c79df",
   "metadata": {},
   "outputs": [],
   "source": [
    "#4. If a PdfFileReader object’s PDF is encrypted with the password swordfish, what must you do before you can obtain Page objects from it?"
   ]
  },
  {
   "cell_type": "code",
   "execution_count": null,
   "id": "9d3e0871",
   "metadata": {},
   "outputs": [],
   "source": [
    "#Ans_4\n",
    "Then the pdf has to be decrypted by - .decrypt('swordfish')"
   ]
  },
  {
   "cell_type": "code",
   "execution_count": null,
   "id": "8770dfce",
   "metadata": {},
   "outputs": [],
   "source": [
    "#5. What methods do you use to rotate a page?"
   ]
  },
  {
   "cell_type": "code",
   "execution_count": null,
   "id": "9f7681e8",
   "metadata": {},
   "outputs": [],
   "source": [
    "#Ans_5\n",
    "rotateClockwise() and rotateCounterClockwise()"
   ]
  },
  {
   "cell_type": "code",
   "execution_count": null,
   "id": "2219f850",
   "metadata": {},
   "outputs": [],
   "source": [
    "#6. What is the difference between a Run object and a Paragraph object?"
   ]
  },
  {
   "cell_type": "code",
   "execution_count": null,
   "id": "6f704159",
   "metadata": {},
   "outputs": [],
   "source": [
    "#Ans_6\n",
    "• Run Object : Runs are contiguous groups of characters within a paragraph with the same forat or style\n",
    "• Paragraph Object : A paragraph begins on a new line and contains multiple runs."
   ]
  },
  {
   "cell_type": "code",
   "execution_count": null,
   "id": "ab8b0f9b",
   "metadata": {},
   "outputs": [],
   "source": [
    "#7. How do you obtain a list of Paragraph objects for a Document object that’s stored in a variable named doc?"
   ]
  },
  {
   "cell_type": "code",
   "execution_count": null,
   "id": "a93ad8d0",
   "metadata": {},
   "outputs": [],
   "source": [
    "#Ans_7\n",
    "By using 'doc.paragraphs' we can obtain a list of Paragraph objects for a Document object that’s stored in a variable named doc"
   ]
  },
  {
   "cell_type": "code",
   "execution_count": null,
   "id": "2d00b4e2",
   "metadata": {},
   "outputs": [],
   "source": [
    "#8. What type of object has bold, underline, italic, strike, and outline variables?"
   ]
  },
  {
   "cell_type": "code",
   "execution_count": null,
   "id": "bc8c0372",
   "metadata": {},
   "outputs": [],
   "source": [
    "#Ans_8\n",
    "Object which has bold, underline, italic, strike, and outline variables is the Run object."
   ]
  },
  {
   "cell_type": "code",
   "execution_count": null,
   "id": "5ddb975e",
   "metadata": {},
   "outputs": [],
   "source": [
    "#9. What is the difference between False, True, and None for the bold variable?"
   ]
  },
  {
   "cell_type": "code",
   "execution_count": null,
   "id": "17b803dd",
   "metadata": {},
   "outputs": [],
   "source": [
    "#Ans_9\n",
    "True  - the attribute is always enabled\n",
    "False - the attribute is always disabled\n",
    "None  - defaults to whatever the run’s style is set to"
   ]
  },
  {
   "cell_type": "code",
   "execution_count": null,
   "id": "6e0148cd",
   "metadata": {},
   "outputs": [],
   "source": [
    "#10. How do you create a Document object for a new Word document?"
   ]
  },
  {
   "cell_type": "code",
   "execution_count": null,
   "id": "f9ee0ad4",
   "metadata": {},
   "outputs": [],
   "source": [
    "#Ans_10\n",
    "docx.Document() function is used for the purpose"
   ]
  },
  {
   "cell_type": "code",
   "execution_count": null,
   "id": "2f963e8b",
   "metadata": {},
   "outputs": [],
   "source": [
    "#11. How do you add a paragraph with the text 'Hello, there!' to a Document object stored in a variable named doc?"
   ]
  },
  {
   "cell_type": "code",
   "execution_count": null,
   "id": "2e486acc",
   "metadata": {},
   "outputs": [],
   "source": [
    "#Ans_11\n",
    "\n",
    "x = docx.Document()\n",
    "x.add_paragraph('Hello there!')\n",
    "x.save('new_para.docx')"
   ]
  },
  {
   "cell_type": "code",
   "execution_count": null,
   "id": "02b32ee2",
   "metadata": {},
   "outputs": [],
   "source": [
    "#12. What integers represent the levels of headings available in Word documents?"
   ]
  },
  {
   "cell_type": "code",
   "execution_count": null,
   "id": "631b53ed",
   "metadata": {},
   "outputs": [],
   "source": [
    "Integer fron 0 to 4 represent the levels of headings available in Word documents."
   ]
  },
  {
   "cell_type": "code",
   "execution_count": null,
   "id": "bc38a3f7",
   "metadata": {},
   "outputs": [],
   "source": []
  }
 ],
 "metadata": {
  "kernelspec": {
   "display_name": "Python 3",
   "language": "python",
   "name": "python3"
  },
  "language_info": {
   "codemirror_mode": {
    "name": "ipython",
    "version": 3
   },
   "file_extension": ".py",
   "mimetype": "text/x-python",
   "name": "python",
   "nbconvert_exporter": "python",
   "pygments_lexer": "ipython3",
   "version": "3.8.8"
  }
 },
 "nbformat": 4,
 "nbformat_minor": 5
}
