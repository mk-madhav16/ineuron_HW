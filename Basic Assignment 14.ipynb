{
 "cells": [
  {
   "cell_type": "code",
   "execution_count": null,
   "id": "9d3986dc",
   "metadata": {},
   "outputs": [],
   "source": [
    "#1. What does RGBA stand for?"
   ]
  },
  {
   "cell_type": "code",
   "execution_count": null,
   "id": "097c282e",
   "metadata": {},
   "outputs": [],
   "source": [
    "#Ans_1\n",
    "RGBA - red, green, blue, and alpha (transparency)"
   ]
  },
  {
   "cell_type": "code",
   "execution_count": null,
   "id": "16a51045",
   "metadata": {},
   "outputs": [],
   "source": [
    "#2. From the Pillow module, how do you get the RGBA value of any images?"
   ]
  },
  {
   "cell_type": "code",
   "execution_count": 2,
   "id": "de94e16b",
   "metadata": {},
   "outputs": [
    {
     "data": {
      "text/plain": [
       "(0, 128, 0, 255)"
      ]
     },
     "execution_count": 2,
     "metadata": {},
     "output_type": "execute_result"
    }
   ],
   "source": [
    "#Ans_2\n",
    "from PIL import ImageColor\n",
    "ImageColor.getcolor('green', 'RGBA')"
   ]
  },
  {
   "cell_type": "code",
   "execution_count": null,
   "id": "5adb0896",
   "metadata": {},
   "outputs": [],
   "source": [
    "#3. What is a box tuple, and how does it work?"
   ]
  },
  {
   "cell_type": "code",
   "execution_count": null,
   "id": "4eba78f1",
   "metadata": {},
   "outputs": [],
   "source": [
    "#Ans_3\n",
    "A box tuple is a tuple value of four integers \n",
    "the left edge x-coordinate, the top edge y-coordinate, the width, and the height which had to be in same order."
   ]
  },
  {
   "cell_type": "code",
   "execution_count": null,
   "id": "946dedca",
   "metadata": {},
   "outputs": [],
   "source": [
    "#4. Use your image and load in notebook then, How can you find out the width and height of an Image object?"
   ]
  },
  {
   "cell_type": "code",
   "execution_count": 7,
   "id": "636bc41c",
   "metadata": {},
   "outputs": [
    {
     "name": "stdout",
     "output_type": "stream",
     "text": [
      "The height of the image is:  1600\n",
      "The width of the image is:  1067\n"
     ]
    }
   ],
   "source": [
    "#Ans_4\n",
    "from PIL import Image\n",
    "filepath = \"DF6A2227.jpg\"\n",
    "img = Image.open(r'C:\\Users\\madha\\OneDrive\\Desktop\\mk photo\\reception\\DF6A2227.jpg')\n",
    "width = img.width\n",
    "height = img.height\n",
    "  \n",
    "print(\"The height of the image is: \", height)\n",
    "print(\"The width of the image is: \", width)"
   ]
  },
  {
   "cell_type": "code",
   "execution_count": null,
   "id": "109c4e79",
   "metadata": {},
   "outputs": [],
   "source": [
    "#5. What method would you call to get Image object for a 100×100 image, excluding the lower-left quarter of it?"
   ]
  },
  {
   "cell_type": "code",
   "execution_count": null,
   "id": "dae5cd10",
   "metadata": {},
   "outputs": [],
   "source": [
    "#Ans_5\n",
    "ImageObject.crop((0, 50, 50, 50)) - method will be used"
   ]
  },
  {
   "cell_type": "code",
   "execution_count": null,
   "id": "0e1c8906",
   "metadata": {},
   "outputs": [],
   "source": [
    "#6. After making changes to an Image object, how could you save it as an image file?"
   ]
  },
  {
   "cell_type": "code",
   "execution_count": null,
   "id": "10dbd109",
   "metadata": {},
   "outputs": [],
   "source": [
    "#Ans_6\n",
    "imageObj.save('new_file.jpg')"
   ]
  },
  {
   "cell_type": "code",
   "execution_count": null,
   "id": "952eefae",
   "metadata": {},
   "outputs": [],
   "source": [
    "#7. What module contains Pillow’s shape-drawing code?"
   ]
  },
  {
   "cell_type": "code",
   "execution_count": null,
   "id": "1fefc77e",
   "metadata": {},
   "outputs": [],
   "source": [
    "#Ans_7\n",
    "ImageDraw module contains Pillow’s shape-drawing code."
   ]
  },
  {
   "cell_type": "code",
   "execution_count": null,
   "id": "d89ac6e9",
   "metadata": {},
   "outputs": [],
   "source": [
    "#8. Image objects do not have drawing methods. What kind of object does? How do you get this kind of object?"
   ]
  },
  {
   "cell_type": "code",
   "execution_count": null,
   "id": "d3d3c8cf",
   "metadata": {},
   "outputs": [],
   "source": [
    "#Ans_8\n",
    "ImageDraw objects have shape-drawing methods such as point(), line(), or rectangle().\n",
    "But then we have to pass the Image object to the ImageDraw.Draw() function."
   ]
  },
  {
   "cell_type": "code",
   "execution_count": null,
   "id": "12b02e67",
   "metadata": {},
   "outputs": [],
   "source": []
  }
 ],
 "metadata": {
  "kernelspec": {
   "display_name": "Python 3",
   "language": "python",
   "name": "python3"
  },
  "language_info": {
   "codemirror_mode": {
    "name": "ipython",
    "version": 3
   },
   "file_extension": ".py",
   "mimetype": "text/x-python",
   "name": "python",
   "nbconvert_exporter": "python",
   "pygments_lexer": "ipython3",
   "version": "3.8.8"
  }
 },
 "nbformat": 4,
 "nbformat_minor": 5
}
