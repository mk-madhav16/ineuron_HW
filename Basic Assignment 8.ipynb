{
 "cells": [
  {
   "cell_type": "code",
   "execution_count": null,
   "id": "f2f4ecb4",
   "metadata": {},
   "outputs": [],
   "source": [
    "#1. Is the Python Standard Library included with PyInputPlus?"
   ]
  },
  {
   "cell_type": "code",
   "execution_count": null,
   "id": "31b336db",
   "metadata": {},
   "outputs": [],
   "source": [
    "#Ans_1\n",
    "No, PyInputPlus is not included in Python Standard Library."
   ]
  },
  {
   "cell_type": "code",
   "execution_count": 2,
   "id": "c48a5de8",
   "metadata": {},
   "outputs": [
    {
     "name": "stdout",
     "output_type": "stream",
     "text": [
      "Requirement already satisfied: pyinputplus in c:\\users\\madha\\anaconda3\\lib\\site-packages (0.2.12)\n",
      "Collecting a\n",
      "  Downloading a-1.0.tar.gz (564 bytes)\n",
      "Collecting pypi\n",
      "  Downloading pypi-2.1.tar.gz (997 bytes)\n",
      "Requirement already satisfied: stdiomask>=0.0.3 in c:\\users\\madha\\anaconda3\\lib\\site-packages (from pyinputplus) (0.0.6)\n",
      "Requirement already satisfied: pysimplevalidate>=0.2.7 in c:\\users\\madha\\anaconda3\\lib\\site-packages (from pyinputplus) (0.2.12)\n",
      "Building wheels for collected packages: a, pypi\n",
      "  Building wheel for a (setup.py): started\n",
      "  Building wheel for a (setup.py): finished with status 'done'\n",
      "  Created wheel for a: filename=a-1.0-py3-none-any.whl size=1176 sha256=ed5f6e3c3dc6f7febf75a9c58bb73fe36c57407665494271b1e62e08b415330b\n",
      "  Stored in directory: c:\\users\\madha\\appdata\\local\\pip\\cache\\wheels\\64\\d7\\98\\beebb5a5c5d5da0e22af09f68ed5b6bc40de923f7d89ede13b\n",
      "  Building wheel for pypi (setup.py): started\n",
      "  Building wheel for pypi (setup.py): finished with status 'done'\n",
      "  Created wheel for pypi: filename=pypi-2.1-py3-none-any.whl size=1353 sha256=1b9f6d227bed0b8dc7f4ed240361960fb9dc3620ecd8922e76abbaac0aa22dfe\n",
      "  Stored in directory: c:\\users\\madha\\appdata\\local\\pip\\cache\\wheels\\6e\\bb\\35\\2b31808160dec7d2186ec14eca0b52c3f5a337d1aa40d87f59\n",
      "Successfully built a pypi\n",
      "Installing collected packages: pypi, a\n",
      "Successfully installed a-1.0 pypi-2.1\n"
     ]
    }
   ],
   "source": [
    " !pip install pyinputplus a pypi"
   ]
  },
  {
   "cell_type": "code",
   "execution_count": null,
   "id": "65487fca",
   "metadata": {},
   "outputs": [],
   "source": [
    "#2. Why is PyInputPlus commonly imported with import pyinputplus as pypi?"
   ]
  },
  {
   "cell_type": "code",
   "execution_count": null,
   "id": "55139e00",
   "metadata": {},
   "outputs": [],
   "source": [
    "#Ans_2\n",
    "pypi is juts an alias for PyInputPlus, it just help us in typing a little liss"
   ]
  },
  {
   "cell_type": "code",
   "execution_count": null,
   "id": "1dbb691e",
   "metadata": {},
   "outputs": [],
   "source": [
    "#3 3. How do you distinguish between inputInt() and inputFloat()?"
   ]
  },
  {
   "cell_type": "code",
   "execution_count": null,
   "id": "0676953b",
   "metadata": {},
   "outputs": [],
   "source": [
    "#Ans_3\n",
    "inputInt() - function accepts integer value and return result in int value\n",
    "inputFloat() - function accepts integer and floating point value but return result in just float value"
   ]
  },
  {
   "cell_type": "code",
   "execution_count": null,
   "id": "755bb661",
   "metadata": {},
   "outputs": [],
   "source": [
    "4. Using PyInputPlus, how do you ensure that the user enters a whole number between 0 and 99?"
   ]
  },
  {
   "cell_type": "code",
   "execution_count": null,
   "id": "3c1a60c0",
   "metadata": {},
   "outputs": [],
   "source": [
    "#Ans_4\n",
    "We can set min= 0 and max = 99, this enures that user enter number between 0 and 99"
   ]
  },
  {
   "cell_type": "code",
   "execution_count": null,
   "id": "d75a6260",
   "metadata": {},
   "outputs": [],
   "source": [
    "#5. What is transferred to the keyword arguments allowRegexes and blockRegexes?"
   ]
  },
  {
   "cell_type": "code",
   "execution_count": null,
   "id": "0266b6a2",
   "metadata": {},
   "outputs": [],
   "source": [
    "#Ans_5\n",
    "This keyword accepts list of regular expression strings to detemine acceptence or rejection of input"
   ]
  },
  {
   "cell_type": "code",
   "execution_count": null,
   "id": "c4491950",
   "metadata": {},
   "outputs": [],
   "source": [
    "#6. If a blank input is entered three times, what does inputStr(limit=3) do?"
   ]
  },
  {
   "cell_type": "code",
   "execution_count": null,
   "id": "728dbac5",
   "metadata": {},
   "outputs": [],
   "source": [
    "#Ans_6\n",
    "It will give us RetryLimitException exception."
   ]
  },
  {
   "cell_type": "code",
   "execution_count": null,
   "id": "eab52d16",
   "metadata": {},
   "outputs": [],
   "source": [
    "#7. If blank input is entered three times, what does inputStr(limit=3, default='hello') do?"
   ]
  },
  {
   "cell_type": "code",
   "execution_count": null,
   "id": "8185780b",
   "metadata": {},
   "outputs": [],
   "source": [
    "#Ans_7\n",
    "When we use limit ith a default keyword, then function will return default value."
   ]
  },
  {
   "cell_type": "code",
   "execution_count": null,
   "id": "a06345f1",
   "metadata": {},
   "outputs": [],
   "source": []
  },
  {
   "cell_type": "code",
   "execution_count": null,
   "id": "fa8534c7",
   "metadata": {},
   "outputs": [],
   "source": []
  }
 ],
 "metadata": {
  "kernelspec": {
   "display_name": "Python 3",
   "language": "python",
   "name": "python3"
  },
  "language_info": {
   "codemirror_mode": {
    "name": "ipython",
    "version": 3
   },
   "file_extension": ".py",
   "mimetype": "text/x-python",
   "name": "python",
   "nbconvert_exporter": "python",
   "pygments_lexer": "ipython3",
   "version": "3.8.8"
  }
 },
 "nbformat": 4,
 "nbformat_minor": 5
}
